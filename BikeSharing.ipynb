{
 "cells": [
  {
   "cell_type": "markdown",
   "id": "cfb9426d",
   "metadata": {},
   "source": [
    "# Bike sharing Regression Analysis\n",
    "Problem Statement\n",
    "A bike-sharing system is a service in which bikes are made available for shared use to individuals on a short term basis for a price or free. Many bike share systems allow people to borrow a bike from a \"dock\" which is usually computer-controlled wherein the user enters the payment information, and the system unlocks it. This bike can then be returned to another dock belonging to the same system.\n",
    "\n",
    "\n",
    "A US bike-sharing provider BoomBikes has recently suffered considerable dips in their revenues due to the ongoing Corona pandemic. The company is finding it very difficult to sustain in the current market scenario. So, it has decided to come up with a mindful business plan to be able to accelerate its revenue as soon as the ongoing lockdown comes to an end, and the economy restores to a healthy state. \n",
    "\n",
    "\n",
    "In such an attempt, BoomBikes aspires to understand the demand for shared bikes among the people after this ongoing quarantine situation ends across the nation due to Covid-19. They have planned this to prepare themselves to cater to the people's needs once the situation gets better all around and stand out from other service providers and make huge profits.\n",
    "\n",
    "\n",
    "They have contracted a consulting company to understand the factors on which the demand for these shared bikes depends. Specifically, they want to understand the factors affecting the demand for these shared bikes in the American market. The company wants to know:\n",
    "\n",
    "Which variables are significant in predicting the demand for shared bikes.\n",
    "How well those variables describe the bike demands\n",
    "\n",
    "## Business Goal:\n",
    "You are required to model the demand for shared bikes with the available independent variables. It will be used by the management to understand how exactly the demands vary with different features. They can accordingly manipulate the business strategy to meet the demand levels and meet the customer's expectations. Further, the model will be a good way for management to understand the demand dynamics of a new market. \n"
   ]
  },
  {
   "cell_type": "code",
   "execution_count": 1,
   "id": "533659f1",
   "metadata": {},
   "outputs": [],
   "source": [
    "import pandas as pd\n",
    "import numpy as np\n",
    "import seaborn as sns\n",
    "import matplotlib.pyplot as plt\n",
    "\n",
    "import warnings\n",
    "warnings.filterwarnings('ignore')\n",
    "\n",
    "from sklearn.model_selection import train_test_split\n",
    "from sklearn.preprocessing import MinMaxScaler\n",
    "from statsmodels.stats.outliers_influence import variance_inflation_factor\n",
    "from sklearn.feature_selection import RFE\n",
    "from sklearn.linear_model import LinearRegression\n",
    "from sklearn.metrics import r2_score\n",
    "\n",
    "import statsmodels.api as sm"
   ]
  },
  {
   "cell_type": "code",
   "execution_count": 2,
   "id": "b4b8eaf8",
   "metadata": {},
   "outputs": [],
   "source": [
    "# Reading the Dataset\n",
    "df = pd.read_csv(\"day.csv\")"
   ]
  },
  {
   "cell_type": "code",
   "execution_count": 3,
   "id": "3760421a",
   "metadata": {},
   "outputs": [
    {
     "data": {
      "text/html": [
       "<div>\n",
       "<style scoped>\n",
       "    .dataframe tbody tr th:only-of-type {\n",
       "        vertical-align: middle;\n",
       "    }\n",
       "\n",
       "    .dataframe tbody tr th {\n",
       "        vertical-align: top;\n",
       "    }\n",
       "\n",
       "    .dataframe thead th {\n",
       "        text-align: right;\n",
       "    }\n",
       "</style>\n",
       "<table border=\"1\" class=\"dataframe\">\n",
       "  <thead>\n",
       "    <tr style=\"text-align: right;\">\n",
       "      <th></th>\n",
       "      <th>instant</th>\n",
       "      <th>dteday</th>\n",
       "      <th>season</th>\n",
       "      <th>yr</th>\n",
       "      <th>mnth</th>\n",
       "      <th>holiday</th>\n",
       "      <th>weekday</th>\n",
       "      <th>workingday</th>\n",
       "      <th>weathersit</th>\n",
       "      <th>temp</th>\n",
       "      <th>atemp</th>\n",
       "      <th>hum</th>\n",
       "      <th>windspeed</th>\n",
       "      <th>casual</th>\n",
       "      <th>registered</th>\n",
       "      <th>cnt</th>\n",
       "    </tr>\n",
       "  </thead>\n",
       "  <tbody>\n",
       "    <tr>\n",
       "      <th>0</th>\n",
       "      <td>1</td>\n",
       "      <td>01-01-2018</td>\n",
       "      <td>1</td>\n",
       "      <td>0</td>\n",
       "      <td>1</td>\n",
       "      <td>0</td>\n",
       "      <td>6</td>\n",
       "      <td>0</td>\n",
       "      <td>2</td>\n",
       "      <td>14.110847</td>\n",
       "      <td>18.18125</td>\n",
       "      <td>80.5833</td>\n",
       "      <td>10.749882</td>\n",
       "      <td>331</td>\n",
       "      <td>654</td>\n",
       "      <td>985</td>\n",
       "    </tr>\n",
       "    <tr>\n",
       "      <th>1</th>\n",
       "      <td>2</td>\n",
       "      <td>02-01-2018</td>\n",
       "      <td>1</td>\n",
       "      <td>0</td>\n",
       "      <td>1</td>\n",
       "      <td>0</td>\n",
       "      <td>0</td>\n",
       "      <td>0</td>\n",
       "      <td>2</td>\n",
       "      <td>14.902598</td>\n",
       "      <td>17.68695</td>\n",
       "      <td>69.6087</td>\n",
       "      <td>16.652113</td>\n",
       "      <td>131</td>\n",
       "      <td>670</td>\n",
       "      <td>801</td>\n",
       "    </tr>\n",
       "    <tr>\n",
       "      <th>2</th>\n",
       "      <td>3</td>\n",
       "      <td>03-01-2018</td>\n",
       "      <td>1</td>\n",
       "      <td>0</td>\n",
       "      <td>1</td>\n",
       "      <td>0</td>\n",
       "      <td>1</td>\n",
       "      <td>1</td>\n",
       "      <td>1</td>\n",
       "      <td>8.050924</td>\n",
       "      <td>9.47025</td>\n",
       "      <td>43.7273</td>\n",
       "      <td>16.636703</td>\n",
       "      <td>120</td>\n",
       "      <td>1229</td>\n",
       "      <td>1349</td>\n",
       "    </tr>\n",
       "    <tr>\n",
       "      <th>3</th>\n",
       "      <td>4</td>\n",
       "      <td>04-01-2018</td>\n",
       "      <td>1</td>\n",
       "      <td>0</td>\n",
       "      <td>1</td>\n",
       "      <td>0</td>\n",
       "      <td>2</td>\n",
       "      <td>1</td>\n",
       "      <td>1</td>\n",
       "      <td>8.200000</td>\n",
       "      <td>10.60610</td>\n",
       "      <td>59.0435</td>\n",
       "      <td>10.739832</td>\n",
       "      <td>108</td>\n",
       "      <td>1454</td>\n",
       "      <td>1562</td>\n",
       "    </tr>\n",
       "    <tr>\n",
       "      <th>4</th>\n",
       "      <td>5</td>\n",
       "      <td>05-01-2018</td>\n",
       "      <td>1</td>\n",
       "      <td>0</td>\n",
       "      <td>1</td>\n",
       "      <td>0</td>\n",
       "      <td>3</td>\n",
       "      <td>1</td>\n",
       "      <td>1</td>\n",
       "      <td>9.305237</td>\n",
       "      <td>11.46350</td>\n",
       "      <td>43.6957</td>\n",
       "      <td>12.522300</td>\n",
       "      <td>82</td>\n",
       "      <td>1518</td>\n",
       "      <td>1600</td>\n",
       "    </tr>\n",
       "  </tbody>\n",
       "</table>\n",
       "</div>"
      ],
      "text/plain": [
       "   instant      dteday  season  yr  mnth  holiday  weekday  workingday  \\\n",
       "0        1  01-01-2018       1   0     1        0        6           0   \n",
       "1        2  02-01-2018       1   0     1        0        0           0   \n",
       "2        3  03-01-2018       1   0     1        0        1           1   \n",
       "3        4  04-01-2018       1   0     1        0        2           1   \n",
       "4        5  05-01-2018       1   0     1        0        3           1   \n",
       "\n",
       "   weathersit       temp     atemp      hum  windspeed  casual  registered  \\\n",
       "0           2  14.110847  18.18125  80.5833  10.749882     331         654   \n",
       "1           2  14.902598  17.68695  69.6087  16.652113     131         670   \n",
       "2           1   8.050924   9.47025  43.7273  16.636703     120        1229   \n",
       "3           1   8.200000  10.60610  59.0435  10.739832     108        1454   \n",
       "4           1   9.305237  11.46350  43.6957  12.522300      82        1518   \n",
       "\n",
       "    cnt  \n",
       "0   985  \n",
       "1   801  \n",
       "2  1349  \n",
       "3  1562  \n",
       "4  1600  "
      ]
     },
     "execution_count": 3,
     "metadata": {},
     "output_type": "execute_result"
    }
   ],
   "source": [
    "df.head()"
   ]
  },
  {
   "cell_type": "code",
   "execution_count": 4,
   "id": "b7f1dd59",
   "metadata": {},
   "outputs": [
    {
     "data": {
      "text/plain": [
       "instant       0\n",
       "dteday        0\n",
       "season        0\n",
       "yr            0\n",
       "mnth          0\n",
       "holiday       0\n",
       "weekday       0\n",
       "workingday    0\n",
       "weathersit    0\n",
       "temp          0\n",
       "atemp         0\n",
       "hum           0\n",
       "windspeed     0\n",
       "casual        0\n",
       "registered    0\n",
       "cnt           0\n",
       "dtype: int64"
      ]
     },
     "execution_count": 4,
     "metadata": {},
     "output_type": "execute_result"
    }
   ],
   "source": [
    "# Checking the number is nulls's in the dataset and there are none\n",
    "df.isna().sum()"
   ]
  },
  {
   "cell_type": "code",
   "execution_count": 5,
   "id": "9e54273a",
   "metadata": {},
   "outputs": [
    {
     "data": {
      "text/plain": [
       "(730, 16)"
      ]
     },
     "execution_count": 5,
     "metadata": {},
     "output_type": "execute_result"
    }
   ],
   "source": [
    "# There are 730 rows in the Dataset\n",
    "df.shape"
   ]
  },
  {
   "cell_type": "code",
   "execution_count": 6,
   "id": "97836c5a",
   "metadata": {},
   "outputs": [
    {
     "name": "stdout",
     "output_type": "stream",
     "text": [
      "<class 'pandas.core.frame.DataFrame'>\n",
      "RangeIndex: 730 entries, 0 to 729\n",
      "Data columns (total 16 columns):\n",
      " #   Column      Non-Null Count  Dtype  \n",
      "---  ------      --------------  -----  \n",
      " 0   instant     730 non-null    int64  \n",
      " 1   dteday      730 non-null    object \n",
      " 2   season      730 non-null    int64  \n",
      " 3   yr          730 non-null    int64  \n",
      " 4   mnth        730 non-null    int64  \n",
      " 5   holiday     730 non-null    int64  \n",
      " 6   weekday     730 non-null    int64  \n",
      " 7   workingday  730 non-null    int64  \n",
      " 8   weathersit  730 non-null    int64  \n",
      " 9   temp        730 non-null    float64\n",
      " 10  atemp       730 non-null    float64\n",
      " 11  hum         730 non-null    float64\n",
      " 12  windspeed   730 non-null    float64\n",
      " 13  casual      730 non-null    int64  \n",
      " 14  registered  730 non-null    int64  \n",
      " 15  cnt         730 non-null    int64  \n",
      "dtypes: float64(4), int64(11), object(1)\n",
      "memory usage: 91.4+ KB\n"
     ]
    }
   ],
   "source": [
    "df.info()"
   ]
  },
  {
   "cell_type": "code",
   "execution_count": 7,
   "id": "8bd66d8d",
   "metadata": {},
   "outputs": [
    {
     "data": {
      "text/html": [
       "<div>\n",
       "<style scoped>\n",
       "    .dataframe tbody tr th:only-of-type {\n",
       "        vertical-align: middle;\n",
       "    }\n",
       "\n",
       "    .dataframe tbody tr th {\n",
       "        vertical-align: top;\n",
       "    }\n",
       "\n",
       "    .dataframe thead th {\n",
       "        text-align: right;\n",
       "    }\n",
       "</style>\n",
       "<table border=\"1\" class=\"dataframe\">\n",
       "  <thead>\n",
       "    <tr style=\"text-align: right;\">\n",
       "      <th></th>\n",
       "      <th>instant</th>\n",
       "      <th>season</th>\n",
       "      <th>yr</th>\n",
       "      <th>mnth</th>\n",
       "      <th>holiday</th>\n",
       "      <th>weekday</th>\n",
       "      <th>workingday</th>\n",
       "      <th>weathersit</th>\n",
       "      <th>temp</th>\n",
       "      <th>atemp</th>\n",
       "      <th>hum</th>\n",
       "      <th>windspeed</th>\n",
       "      <th>casual</th>\n",
       "      <th>registered</th>\n",
       "      <th>cnt</th>\n",
       "    </tr>\n",
       "  </thead>\n",
       "  <tbody>\n",
       "    <tr>\n",
       "      <th>count</th>\n",
       "      <td>730.000000</td>\n",
       "      <td>730.000000</td>\n",
       "      <td>730.000000</td>\n",
       "      <td>730.000000</td>\n",
       "      <td>730.000000</td>\n",
       "      <td>730.000000</td>\n",
       "      <td>730.000000</td>\n",
       "      <td>730.000000</td>\n",
       "      <td>730.000000</td>\n",
       "      <td>730.000000</td>\n",
       "      <td>730.000000</td>\n",
       "      <td>730.000000</td>\n",
       "      <td>730.000000</td>\n",
       "      <td>730.000000</td>\n",
       "      <td>730.000000</td>\n",
       "    </tr>\n",
       "    <tr>\n",
       "      <th>mean</th>\n",
       "      <td>365.500000</td>\n",
       "      <td>2.498630</td>\n",
       "      <td>0.500000</td>\n",
       "      <td>6.526027</td>\n",
       "      <td>0.028767</td>\n",
       "      <td>2.997260</td>\n",
       "      <td>0.683562</td>\n",
       "      <td>1.394521</td>\n",
       "      <td>20.319259</td>\n",
       "      <td>23.726322</td>\n",
       "      <td>62.765175</td>\n",
       "      <td>12.763620</td>\n",
       "      <td>849.249315</td>\n",
       "      <td>3658.757534</td>\n",
       "      <td>4508.006849</td>\n",
       "    </tr>\n",
       "    <tr>\n",
       "      <th>std</th>\n",
       "      <td>210.877136</td>\n",
       "      <td>1.110184</td>\n",
       "      <td>0.500343</td>\n",
       "      <td>3.450215</td>\n",
       "      <td>0.167266</td>\n",
       "      <td>2.006161</td>\n",
       "      <td>0.465405</td>\n",
       "      <td>0.544807</td>\n",
       "      <td>7.506729</td>\n",
       "      <td>8.150308</td>\n",
       "      <td>14.237589</td>\n",
       "      <td>5.195841</td>\n",
       "      <td>686.479875</td>\n",
       "      <td>1559.758728</td>\n",
       "      <td>1936.011647</td>\n",
       "    </tr>\n",
       "    <tr>\n",
       "      <th>min</th>\n",
       "      <td>1.000000</td>\n",
       "      <td>1.000000</td>\n",
       "      <td>0.000000</td>\n",
       "      <td>1.000000</td>\n",
       "      <td>0.000000</td>\n",
       "      <td>0.000000</td>\n",
       "      <td>0.000000</td>\n",
       "      <td>1.000000</td>\n",
       "      <td>2.424346</td>\n",
       "      <td>3.953480</td>\n",
       "      <td>0.000000</td>\n",
       "      <td>1.500244</td>\n",
       "      <td>2.000000</td>\n",
       "      <td>20.000000</td>\n",
       "      <td>22.000000</td>\n",
       "    </tr>\n",
       "    <tr>\n",
       "      <th>25%</th>\n",
       "      <td>183.250000</td>\n",
       "      <td>2.000000</td>\n",
       "      <td>0.000000</td>\n",
       "      <td>4.000000</td>\n",
       "      <td>0.000000</td>\n",
       "      <td>1.000000</td>\n",
       "      <td>0.000000</td>\n",
       "      <td>1.000000</td>\n",
       "      <td>13.811885</td>\n",
       "      <td>16.889713</td>\n",
       "      <td>52.000000</td>\n",
       "      <td>9.041650</td>\n",
       "      <td>316.250000</td>\n",
       "      <td>2502.250000</td>\n",
       "      <td>3169.750000</td>\n",
       "    </tr>\n",
       "    <tr>\n",
       "      <th>50%</th>\n",
       "      <td>365.500000</td>\n",
       "      <td>3.000000</td>\n",
       "      <td>0.500000</td>\n",
       "      <td>7.000000</td>\n",
       "      <td>0.000000</td>\n",
       "      <td>3.000000</td>\n",
       "      <td>1.000000</td>\n",
       "      <td>1.000000</td>\n",
       "      <td>20.465826</td>\n",
       "      <td>24.368225</td>\n",
       "      <td>62.625000</td>\n",
       "      <td>12.125325</td>\n",
       "      <td>717.000000</td>\n",
       "      <td>3664.500000</td>\n",
       "      <td>4548.500000</td>\n",
       "    </tr>\n",
       "    <tr>\n",
       "      <th>75%</th>\n",
       "      <td>547.750000</td>\n",
       "      <td>3.000000</td>\n",
       "      <td>1.000000</td>\n",
       "      <td>10.000000</td>\n",
       "      <td>0.000000</td>\n",
       "      <td>5.000000</td>\n",
       "      <td>1.000000</td>\n",
       "      <td>2.000000</td>\n",
       "      <td>26.880615</td>\n",
       "      <td>30.445775</td>\n",
       "      <td>72.989575</td>\n",
       "      <td>15.625589</td>\n",
       "      <td>1096.500000</td>\n",
       "      <td>4783.250000</td>\n",
       "      <td>5966.000000</td>\n",
       "    </tr>\n",
       "    <tr>\n",
       "      <th>max</th>\n",
       "      <td>730.000000</td>\n",
       "      <td>4.000000</td>\n",
       "      <td>1.000000</td>\n",
       "      <td>12.000000</td>\n",
       "      <td>1.000000</td>\n",
       "      <td>6.000000</td>\n",
       "      <td>1.000000</td>\n",
       "      <td>3.000000</td>\n",
       "      <td>35.328347</td>\n",
       "      <td>42.044800</td>\n",
       "      <td>97.250000</td>\n",
       "      <td>34.000021</td>\n",
       "      <td>3410.000000</td>\n",
       "      <td>6946.000000</td>\n",
       "      <td>8714.000000</td>\n",
       "    </tr>\n",
       "  </tbody>\n",
       "</table>\n",
       "</div>"
      ],
      "text/plain": [
       "          instant      season          yr        mnth     holiday     weekday  \\\n",
       "count  730.000000  730.000000  730.000000  730.000000  730.000000  730.000000   \n",
       "mean   365.500000    2.498630    0.500000    6.526027    0.028767    2.997260   \n",
       "std    210.877136    1.110184    0.500343    3.450215    0.167266    2.006161   \n",
       "min      1.000000    1.000000    0.000000    1.000000    0.000000    0.000000   \n",
       "25%    183.250000    2.000000    0.000000    4.000000    0.000000    1.000000   \n",
       "50%    365.500000    3.000000    0.500000    7.000000    0.000000    3.000000   \n",
       "75%    547.750000    3.000000    1.000000   10.000000    0.000000    5.000000   \n",
       "max    730.000000    4.000000    1.000000   12.000000    1.000000    6.000000   \n",
       "\n",
       "       workingday  weathersit        temp       atemp         hum   windspeed  \\\n",
       "count  730.000000  730.000000  730.000000  730.000000  730.000000  730.000000   \n",
       "mean     0.683562    1.394521   20.319259   23.726322   62.765175   12.763620   \n",
       "std      0.465405    0.544807    7.506729    8.150308   14.237589    5.195841   \n",
       "min      0.000000    1.000000    2.424346    3.953480    0.000000    1.500244   \n",
       "25%      0.000000    1.000000   13.811885   16.889713   52.000000    9.041650   \n",
       "50%      1.000000    1.000000   20.465826   24.368225   62.625000   12.125325   \n",
       "75%      1.000000    2.000000   26.880615   30.445775   72.989575   15.625589   \n",
       "max      1.000000    3.000000   35.328347   42.044800   97.250000   34.000021   \n",
       "\n",
       "            casual   registered          cnt  \n",
       "count   730.000000   730.000000   730.000000  \n",
       "mean    849.249315  3658.757534  4508.006849  \n",
       "std     686.479875  1559.758728  1936.011647  \n",
       "min       2.000000    20.000000    22.000000  \n",
       "25%     316.250000  2502.250000  3169.750000  \n",
       "50%     717.000000  3664.500000  4548.500000  \n",
       "75%    1096.500000  4783.250000  5966.000000  \n",
       "max    3410.000000  6946.000000  8714.000000  "
      ]
     },
     "execution_count": 7,
     "metadata": {},
     "output_type": "execute_result"
    }
   ],
   "source": [
    "df.describe()"
   ]
  },
  {
   "cell_type": "code",
   "execution_count": 8,
   "id": "b5f46be4",
   "metadata": {},
   "outputs": [],
   "source": [
    "# Extracting Year and Month from dteday\n",
    "df['year'] = pd.to_datetime(df['dteday'],format=\"mixed\",dayfirst=True).dt.year\n",
    "df['month'] = pd.to_datetime(df['dteday'],format='mixed',dayfirst=True).dt.month\n",
    "\n",
    "\n",
    "df = df.drop(['yr','mnth'],axis=1)"
   ]
  },
  {
   "cell_type": "markdown",
   "id": "4897f864",
   "metadata": {},
   "source": [
    "Data Analysis"
   ]
  },
  {
   "cell_type": "code",
   "execution_count": 9,
   "id": "0dabe304",
   "metadata": {},
   "outputs": [
    {
     "data": {
      "image/png": "[encoded data removed]",
      "text/plain": [
       "<Figure size 640x480 with 1 Axes>"
      ]
     },
     "metadata": {},
     "output_type": "display_data"
    }
   ],
   "source": [
    "# Trend of Sales by Year and Weekday \n",
    "tempdf = pd.pivot_table(data=df,index=['weekday'],columns='year',values='cnt',aggfunc='sum')\n",
    "\n",
    "tempdataframe = pd.DataFrame({'Weekday': tempdf.index,'2018':tempdf[2018],'2019':tempdf[2019]})\n",
    "tempdataframe.plot(x=\"Weekday\", y=[\"2018\", \"2019\"], kind=\"bar\", rot=0)\n",
    "plt.show()"
   ]
  },
  {
   "cell_type": "markdown",
   "id": "446cb6f3",
   "metadata": {},
   "source": [
    "#### 2019 has seen more sales compared to 2018"
   ]
  },
  {
   "cell_type": "code",
   "execution_count": 10,
   "id": "e3c1054d",
   "metadata": {},
   "outputs": [
    {
     "data": {
      "image/png": "[encoded data removed]",
      "text/plain": [
       "<Figure size 640x480 with 1 Axes>"
      ]
     },
     "metadata": {},
     "output_type": "display_data"
    }
   ],
   "source": [
    "tempdf = pd.pivot_table(data=df,index=['holiday'],columns='weekday',values='cnt',aggfunc='mean')\n",
    "tempdataframe = pd.DataFrame({'holiday': tempdf.index,'0':tempdf[0],'1':tempdf[1],'2':tempdf[2],'3':tempdf[3],'4':tempdf[4],'5':tempdf[5],'6':tempdf[6],})\n",
    "tempdataframe.plot(x=\"holiday\", y=[\"0\", \"1\",\"2\",\"3\",\"4\",\"5\",\"6\"], kind=\"bar\", rot=0)\n",
    "plt.show()"
   ]
  },
  {
   "cell_type": "markdown",
   "id": "11e4f126",
   "metadata": {},
   "source": [
    "#### There is NO much impact on Sales on Holidays expect if it falls on Wednesday"
   ]
  },
  {
   "cell_type": "code",
   "execution_count": 11,
   "id": "80408ef9",
   "metadata": {},
   "outputs": [
    {
     "data": {
      "image/png": "[encoded data removed]",
      "text/plain": [
       "<Figure size 640x480 with 1 Axes>"
      ]
     },
     "metadata": {},
     "output_type": "display_data"
    }
   ],
   "source": [
    "tempdf = pd.pivot_table(data=df,index=['weathersit'],columns='year',values='cnt',aggfunc='sum')\n",
    "\n",
    "tempdataframe = pd.DataFrame({'weathersit': tempdf.index,'2018':tempdf[2018],'2019':tempdf[2019]})\n",
    "\n",
    "tempdataframe['weathersit'] = tempdataframe['weathersit'].astype(str)\n",
    "\n",
    "tempdataframe[['weathersit']] = tempdataframe[['weathersit']].apply(lambda x: x.map({'1':\"Clear, Few clouds, Partly cloudy\",'2':\"Mist + Cloudy, Mist + Broken clouds\",'3':'Light Snow, Light Rain + Thunderstorm'}))\n",
    "\n",
    "tempdataframe.plot(x=\"weathersit\", y=[\"2018\", \"2019\"], kind=\"bar\", rot=90)\n",
    "plt.show()"
   ]
  },
  {
   "cell_type": "markdown",
   "id": "155a260e",
   "metadata": {},
   "source": [
    "####  Weather is playing a key role in the Bikes Rented. \"Clear, Few clouds, Partly cloudy\" are seeing the highest numbers. There is NO data for \" Heavy Rain + Ice Pallets\" which could mean no Bikes are taken these days"
   ]
  },
  {
   "cell_type": "code",
   "execution_count": 12,
   "id": "1a007897",
   "metadata": {},
   "outputs": [
    {
     "data": {
      "text/plain": [
       "count    730.000000\n",
       "mean      20.319259\n",
       "std        7.506729\n",
       "min        2.424346\n",
       "25%       13.811885\n",
       "50%       20.465826\n",
       "75%       26.880615\n",
       "max       35.328347\n",
       "Name: temp, dtype: float64"
      ]
     },
     "execution_count": 12,
     "metadata": {},
     "output_type": "execute_result"
    }
   ],
   "source": [
    "df['temp'].describe()"
   ]
  },
  {
   "cell_type": "code",
   "execution_count": 13,
   "id": "3b731746",
   "metadata": {},
   "outputs": [],
   "source": [
    "bins = [0,5, 10,15, 20, 25, 30, 36]\n",
    "labels = ['0-5','5-10','10-15','15-20','20-25','25-30','30-36']\n",
    "df['temp-binned'] = pd.cut(df['temp'], bins=bins, labels=labels)"
   ]
  },
  {
   "cell_type": "code",
   "execution_count": 14,
   "id": "8348472f",
   "metadata": {},
   "outputs": [
    {
     "data": {
      "image/png": "[encoded data removed]",
      "text/plain": [
       "<Figure size 640x480 with 1 Axes>"
      ]
     },
     "metadata": {},
     "output_type": "display_data"
    }
   ],
   "source": [
    "tempdataframe = df.groupby(['temp-binned','year'])['cnt'].sum().reset_index()\n",
    "sns.barplot(tempdataframe,x='temp-binned',y='cnt',hue='year',color='c')\n",
    "plt.xlabel(\"Temp Range\")\n",
    "plt.ylabel(\"Count of Bikes Rented\")\n",
    "plt.show()"
   ]
  },
  {
   "cell_type": "markdown",
   "id": "9d062619",
   "metadata": {},
   "source": [
    "#### Temperature is playing a major role on the count of bikes being rented. During days when temperature is between 20 and 30, the rentals are highest"
   ]
  },
  {
   "cell_type": "code",
   "execution_count": 15,
   "id": "7be22e67",
   "metadata": {},
   "outputs": [],
   "source": [
    "df=df.drop('temp-binned',axis=1)"
   ]
  },
  {
   "cell_type": "code",
   "execution_count": 16,
   "id": "c7b34f4c",
   "metadata": {},
   "outputs": [
    {
     "name": "stdout",
     "output_type": "stream",
     "text": [
      "<class 'pandas.core.frame.DataFrame'>\n",
      "RangeIndex: 730 entries, 0 to 729\n",
      "Data columns (total 16 columns):\n",
      " #   Column      Non-Null Count  Dtype  \n",
      "---  ------      --------------  -----  \n",
      " 0   instant     730 non-null    int64  \n",
      " 1   dteday      730 non-null    object \n",
      " 2   season      730 non-null    int64  \n",
      " 3   holiday     730 non-null    int64  \n",
      " 4   weekday     730 non-null    int64  \n",
      " 5   workingday  730 non-null    int64  \n",
      " 6   weathersit  730 non-null    int64  \n",
      " 7   temp        730 non-null    float64\n",
      " 8   atemp       730 non-null    float64\n",
      " 9   hum         730 non-null    float64\n",
      " 10  windspeed   730 non-null    float64\n",
      " 11  casual      730 non-null    int64  \n",
      " 12  registered  730 non-null    int64  \n",
      " 13  cnt         730 non-null    int64  \n",
      " 14  year        730 non-null    int32  \n",
      " 15  month       730 non-null    int32  \n",
      "dtypes: float64(4), int32(2), int64(9), object(1)\n",
      "memory usage: 85.7+ KB\n"
     ]
    }
   ],
   "source": [
    "df.info()"
   ]
  },
  {
   "cell_type": "code",
   "execution_count": 17,
   "id": "cef6fafa",
   "metadata": {},
   "outputs": [],
   "source": [
    "#dropping columns instant and  dteday \n",
    "#dteday: the month and year are already captured in other cols. Hence dteday makes no sense\n",
    "#instantL\n",
    "df = df.drop(['instant','dteday'],axis=1)"
   ]
  },
  {
   "cell_type": "code",
   "execution_count": null,
   "id": "022e5d94",
   "metadata": {},
   "outputs": [],
   "source": []
  },
  {
   "cell_type": "code",
   "execution_count": 18,
   "id": "a311c29a",
   "metadata": {},
   "outputs": [
    {
     "data": {
      "text/html": [
       "<div>\n",
       "<style scoped>\n",
       "    .dataframe tbody tr th:only-of-type {\n",
       "        vertical-align: middle;\n",
       "    }\n",
       "\n",
       "    .dataframe tbody tr th {\n",
       "        vertical-align: top;\n",
       "    }\n",
       "\n",
       "    .dataframe thead th {\n",
       "        text-align: right;\n",
       "    }\n",
       "</style>\n",
       "<table border=\"1\" class=\"dataframe\">\n",
       "  <thead>\n",
       "    <tr style=\"text-align: right;\">\n",
       "      <th></th>\n",
       "      <th>season</th>\n",
       "      <th>holiday</th>\n",
       "      <th>weekday</th>\n",
       "      <th>workingday</th>\n",
       "      <th>weathersit</th>\n",
       "      <th>temp</th>\n",
       "      <th>atemp</th>\n",
       "      <th>hum</th>\n",
       "      <th>windspeed</th>\n",
       "      <th>casual</th>\n",
       "      <th>registered</th>\n",
       "      <th>cnt</th>\n",
       "      <th>year</th>\n",
       "      <th>month</th>\n",
       "    </tr>\n",
       "  </thead>\n",
       "  <tbody>\n",
       "    <tr>\n",
       "      <th>0</th>\n",
       "      <td>1</td>\n",
       "      <td>0</td>\n",
       "      <td>6</td>\n",
       "      <td>0</td>\n",
       "      <td>2</td>\n",
       "      <td>14.110847</td>\n",
       "      <td>18.18125</td>\n",
       "      <td>80.5833</td>\n",
       "      <td>10.749882</td>\n",
       "      <td>331</td>\n",
       "      <td>654</td>\n",
       "      <td>985</td>\n",
       "      <td>2018</td>\n",
       "      <td>1</td>\n",
       "    </tr>\n",
       "    <tr>\n",
       "      <th>1</th>\n",
       "      <td>1</td>\n",
       "      <td>0</td>\n",
       "      <td>0</td>\n",
       "      <td>0</td>\n",
       "      <td>2</td>\n",
       "      <td>14.902598</td>\n",
       "      <td>17.68695</td>\n",
       "      <td>69.6087</td>\n",
       "      <td>16.652113</td>\n",
       "      <td>131</td>\n",
       "      <td>670</td>\n",
       "      <td>801</td>\n",
       "      <td>2018</td>\n",
       "      <td>1</td>\n",
       "    </tr>\n",
       "    <tr>\n",
       "      <th>2</th>\n",
       "      <td>1</td>\n",
       "      <td>0</td>\n",
       "      <td>1</td>\n",
       "      <td>1</td>\n",
       "      <td>1</td>\n",
       "      <td>8.050924</td>\n",
       "      <td>9.47025</td>\n",
       "      <td>43.7273</td>\n",
       "      <td>16.636703</td>\n",
       "      <td>120</td>\n",
       "      <td>1229</td>\n",
       "      <td>1349</td>\n",
       "      <td>2018</td>\n",
       "      <td>1</td>\n",
       "    </tr>\n",
       "    <tr>\n",
       "      <th>3</th>\n",
       "      <td>1</td>\n",
       "      <td>0</td>\n",
       "      <td>2</td>\n",
       "      <td>1</td>\n",
       "      <td>1</td>\n",
       "      <td>8.200000</td>\n",
       "      <td>10.60610</td>\n",
       "      <td>59.0435</td>\n",
       "      <td>10.739832</td>\n",
       "      <td>108</td>\n",
       "      <td>1454</td>\n",
       "      <td>1562</td>\n",
       "      <td>2018</td>\n",
       "      <td>1</td>\n",
       "    </tr>\n",
       "    <tr>\n",
       "      <th>4</th>\n",
       "      <td>1</td>\n",
       "      <td>0</td>\n",
       "      <td>3</td>\n",
       "      <td>1</td>\n",
       "      <td>1</td>\n",
       "      <td>9.305237</td>\n",
       "      <td>11.46350</td>\n",
       "      <td>43.6957</td>\n",
       "      <td>12.522300</td>\n",
       "      <td>82</td>\n",
       "      <td>1518</td>\n",
       "      <td>1600</td>\n",
       "      <td>2018</td>\n",
       "      <td>1</td>\n",
       "    </tr>\n",
       "  </tbody>\n",
       "</table>\n",
       "</div>"
      ],
      "text/plain": [
       "   season  holiday  weekday  workingday  weathersit       temp     atemp  \\\n",
       "0       1        0        6           0           2  14.110847  18.18125   \n",
       "1       1        0        0           0           2  14.902598  17.68695   \n",
       "2       1        0        1           1           1   8.050924   9.47025   \n",
       "3       1        0        2           1           1   8.200000  10.60610   \n",
       "4       1        0        3           1           1   9.305237  11.46350   \n",
       "\n",
       "       hum  windspeed  casual  registered   cnt  year  month  \n",
       "0  80.5833  10.749882     331         654   985  2018      1  \n",
       "1  69.6087  16.652113     131         670   801  2018      1  \n",
       "2  43.7273  16.636703     120        1229  1349  2018      1  \n",
       "3  59.0435  10.739832     108        1454  1562  2018      1  \n",
       "4  43.6957  12.522300      82        1518  1600  2018      1  "
      ]
     },
     "execution_count": 18,
     "metadata": {},
     "output_type": "execute_result"
    }
   ],
   "source": [
    "df.head(5)"
   ]
  },
  {
   "cell_type": "code",
   "execution_count": 19,
   "id": "fda66b62",
   "metadata": {},
   "outputs": [
    {
     "data": {
      "text/plain": [
       "<Axes: xlabel='month', ylabel='cnt'>"
      ]
     },
     "execution_count": 19,
     "metadata": {},
     "output_type": "execute_result"
    },
    {
     "data": {
      "image/png": "[encoded data removed]",
      "text/plain": [
       "<Figure size 640x480 with 1 Axes>"
      ]
     },
     "metadata": {},
     "output_type": "display_data"
    }
   ],
   "source": [
    "tempdataframe = df.groupby(['month','year'])['cnt'].sum().reset_index()\n",
    "sns.barplot(tempdataframe,x='month',y='cnt',hue='year',color='c')"
   ]
  },
  {
   "cell_type": "markdown",
   "id": "e004cffb",
   "metadata": {},
   "source": [
    "#### Months from May to October see high number of bike rentals"
   ]
  },
  {
   "cell_type": "code",
   "execution_count": 20,
   "id": "74760b0d",
   "metadata": {},
   "outputs": [
    {
     "data": {
      "text/plain": [
       "<Axes: xlabel='season', ylabel='cnt'>"
      ]
     },
     "execution_count": 20,
     "metadata": {},
     "output_type": "execute_result"
    },
    {
     "data": {
      "image/png": "[encoded data removed]",
      "text/plain": [
       "<Figure size 640x480 with 1 Axes>"
      ]
     },
     "metadata": {},
     "output_type": "display_data"
    }
   ],
   "source": [
    "tempdataframe = df.groupby(['season','year'])['cnt'].sum().reset_index()\n",
    "tempdataframe[['season']] = tempdataframe[['season']].apply(lambda x: x.map({1:\"spring\",2:\"summer\",3:\"fall\",4:\"winter\"}))\n",
    ",\n",
    "sns.barplot(tempdataframe,x='season',y='cnt',hue='year',color='c')"
   ]
  },
  {
   "cell_type": "markdown",
   "id": "1020d89f",
   "metadata": {},
   "source": [
    "#### Fall and Summer see the highest Bike Rentals"
   ]
  },
  {
   "cell_type": "code",
   "execution_count": 21,
   "id": "7bf014b1",
   "metadata": {},
   "outputs": [],
   "source": [
    "# Dropping casual and registered as they are already contained in cnt. Cnt is also our target variable\n",
    "df=df.drop(['casual','registered'],axis=1)"
   ]
  },
  {
   "cell_type": "code",
   "execution_count": null,
   "id": "4afc0743",
   "metadata": {},
   "outputs": [],
   "source": [
    "sns.pairplot(df)\n",
    "plt.show()"
   ]
  },
  {
   "cell_type": "code",
   "execution_count": null,
   "id": "920e62a8",
   "metadata": {},
   "outputs": [],
   "source": [
    "plt.figure(figsize=(20,10))\n",
    "sns.heatmap(df.corr(),annot=True)"
   ]
  },
  {
   "cell_type": "code",
   "execution_count": null,
   "id": "3d24c126",
   "metadata": {},
   "outputs": [],
   "source": [
    "sns.boxplot(data=df,y='cnt',x='season',hue='year',color='c')\n",
    "\n",
    "\n",
    "plt.xticks([0,1,2,3] ,['spring', 'summer', 'fall','winter'],rotation=90)\n",
    "\n",
    "plt.show()"
   ]
  },
  {
   "cell_type": "markdown",
   "id": "5e8e7194",
   "metadata": {},
   "source": [
    "#### Summer and Fall see the highest bike rentals"
   ]
  },
  {
   "cell_type": "code",
   "execution_count": null,
   "id": "715cbff5",
   "metadata": {},
   "outputs": [],
   "source": [
    "plt.figure(figsize=(20,12))\n",
    "plt.subplot(2,3,1)\n",
    "sns.boxplot(x='month',y='cnt',data=df)\n",
    "plt.subplot(2,3,2)\n",
    "sns.boxplot(x='holiday',y='cnt',data=df)\n",
    "plt.subplot(2,3,3)\n",
    "sns.boxplot(x='weathersit',y='cnt',data=df)\n",
    "plt.subplot(2,3,4)\n",
    "sns.boxplot(x='season',y='cnt',data=df)\n",
    "plt.subplot(2,3,5)\n",
    "sns.boxplot(x='workingday',y='cnt',data=df)\n",
    "plt.subplot(2,3,6)\n",
    "sns.boxplot(x='year',y='cnt',data=df)\n",
    "plt.show()"
   ]
  },
  {
   "cell_type": "markdown",
   "id": "b08274d5",
   "metadata": {},
   "source": [
    "### Inferences\n",
    "Months June to Sep see highest Bilke Rentals\n"
   ]
  },
  {
   "cell_type": "code",
   "execution_count": null,
   "id": "66903c05",
   "metadata": {},
   "outputs": [],
   "source": []
  },
  {
   "cell_type": "code",
   "execution_count": null,
   "id": "9928ac6f",
   "metadata": {},
   "outputs": [],
   "source": [
    "df.info()"
   ]
  },
  {
   "cell_type": "code",
   "execution_count": null,
   "id": "3613fbf7",
   "metadata": {},
   "outputs": [],
   "source": [
    "df.head(5)"
   ]
  },
  {
   "cell_type": "code",
   "execution_count": null,
   "id": "e69303cb",
   "metadata": {},
   "outputs": [],
   "source": [
    "season = pd.get_dummies(df['season'],dtype=int,drop_first=True,prefix='season')\n",
    "#mnth = pd.get_dummies(df['month'],dtype=int,drop_first=True,prefix='month')\n",
    "#weekday = pd.get_dummies(df['weekday'],dtype=int,drop_first=True,prefix='weekday')\n",
    "weathersit = pd.get_dummies(df['weathersit'],dtype=int,drop_first=True,prefix='weathersit')\n"
   ]
  },
  {
   "cell_type": "code",
   "execution_count": null,
   "id": "a723de44",
   "metadata": {},
   "outputs": [],
   "source": [
    "df['weathersit'].value_counts()"
   ]
  },
  {
   "cell_type": "code",
   "execution_count": null,
   "id": "b4e6543c",
   "metadata": {},
   "outputs": [],
   "source": [
    "#df = pd.concat([df,season,mnth,weekday,weathersit],axis=1)\n",
    "#df=df.drop(['season','month','weekday','weathersit'],axis=1)\n",
    "\n",
    "df = pd.concat([df,season,weathersit],axis=1)\n",
    "df=df.drop(['season','weathersit'],axis=1)\n"
   ]
  },
  {
   "cell_type": "code",
   "execution_count": null,
   "id": "e1835b30",
   "metadata": {},
   "outputs": [],
   "source": [
    "df.info()"
   ]
  },
  {
   "cell_type": "code",
   "execution_count": null,
   "id": "48bc4c7c",
   "metadata": {},
   "outputs": [],
   "source": [
    "df_train,df_test = train_test_split(df,train_size=0.7,random_state=70)"
   ]
  },
  {
   "cell_type": "code",
   "execution_count": null,
   "id": "413a6716",
   "metadata": {},
   "outputs": [],
   "source": [
    "df_test.shape"
   ]
  },
  {
   "cell_type": "code",
   "execution_count": null,
   "id": "0ff9f73c",
   "metadata": {},
   "outputs": [],
   "source": [
    "df_train,df_test = train_test_split(df,train_size=0.7,random_state=70)\n",
    "\n",
    "scaler = MinMaxScaler()\n",
    "scaledvars = ['temp','atemp','hum','windspeed','cnt','year','month','weekday']\n",
    "df_train[scaledvars] = scaler.fit_transform(df_train[scaledvars])\n",
    "\n",
    "df_test[scaledvars] = scaler.transform(df_test[scaledvars])\n"
   ]
  },
  {
   "cell_type": "code",
   "execution_count": null,
   "id": "b8284b8c",
   "metadata": {},
   "outputs": [],
   "source": [
    "df_test.head(5)"
   ]
  },
  {
   "cell_type": "code",
   "execution_count": null,
   "id": "ca9098f9",
   "metadata": {},
   "outputs": [],
   "source": [
    "X_train = df_train.drop('cnt',axis=1)\n",
    "y_train= df_train['cnt']"
   ]
  },
  {
   "cell_type": "markdown",
   "id": "e1d23bbd",
   "metadata": {},
   "source": [
    " # Trainging the model with all varaibles and then eliminating\n"
   ]
  },
  {
   "cell_type": "code",
   "execution_count": null,
   "id": "184962fa",
   "metadata": {},
   "outputs": [],
   "source": [
    "X_train_sm = sm.add_constant(X_train)\n",
    "lr = sm.OLS(y_train,X_train_sm)\n",
    "lrmodel = lr.fit()\n",
    "print (lrmodel.params)\n",
    "print(lrmodel.summary())"
   ]
  },
  {
   "cell_type": "code",
   "execution_count": null,
   "id": "c423a155",
   "metadata": {},
   "outputs": [],
   "source": [
    "vif = pd.DataFrame()\n",
    "vif['Features'] = X_train.columns\n",
    "vif['VIF'] = [variance_inflation_factor(X_train.values,i) for i in range (X_train.shape[1])]\n",
    "vif['VIF'] = round(vif['VIF'],2)\n",
    "vif=vif.sort_values(by='VIF',ascending=False)\n",
    "vif"
   ]
  },
  {
   "cell_type": "code",
   "execution_count": null,
   "id": "910041f3",
   "metadata": {},
   "outputs": [],
   "source": [
    "# As a first step, #Temp and #Atemp have very high correlection. Removing Temp (per heatmap it is 0.99)\n",
    "X_train = X_train.drop('temp',axis=1)\n",
    "vif = pd.DataFrame()\n",
    "vif['Features'] = X_train.columns\n",
    "vif['VIF'] = [variance_inflation_factor(X_train.values,i) for i in range (X_train.shape[1])]\n",
    "vif['VIF'] = round(vif['VIF'],2)\n",
    "vif=vif.sort_values(by='VIF',ascending=False)\n",
    "vif"
   ]
  },
  {
   "cell_type": "code",
   "execution_count": null,
   "id": "38b9ea16",
   "metadata": {},
   "outputs": [],
   "source": [
    "X_train_sm = sm.add_constant(X_train)\n",
    "lr = sm.OLS(y_train,X_train_sm)\n",
    "lrmodel = lr.fit()\n",
    "print (lrmodel.params)\n",
    "print(lrmodel.summary())"
   ]
  },
  {
   "cell_type": "code",
   "execution_count": null,
   "id": "a391b18d",
   "metadata": {},
   "outputs": [],
   "source": [
    "# removing atemp as this is having highest P Value\n",
    "X_train = X_train.drop('atemp',axis=1)\n",
    "X_train_sm = sm.add_constant(X_train)\n",
    "lr = sm.OLS(y_train,X_train_sm)\n",
    "lrmodel = lr.fit()\n",
    "print (lrmodel.params)\n",
    "print(lrmodel.summary())\n",
    "\n"
   ]
  },
  {
   "cell_type": "markdown",
   "id": "b8c83d7c",
   "metadata": {},
   "source": [
    "### The R-squared value has decreased, which means the 'atemp' field cannot be removed. Dropping 'hum' given the very high VIF Value. \n",
    "Note: We have already confirmed we can drop 'temp'."
   ]
  },
  {
   "cell_type": "code",
   "execution_count": null,
   "id": "c87cacd3",
   "metadata": {},
   "outputs": [],
   "source": [
    "\n",
    "X_train = df_train.drop(['cnt'],axis=1)\n",
    "y_train= df_train['cnt']\n",
    "\n",
    "dropping_cols = ['hum','temp']\n",
    "\n",
    "\n",
    "\n",
    "X_train = X_train.drop(dropping_cols,axis=1)\n",
    "\n",
    "\n",
    "\n",
    "X_train_sm = sm.add_constant(X_train)\n",
    "lr = sm.OLS(y_train,X_train_sm)\n",
    "lrmodel = lr.fit()\n",
    "print (lrmodel.params)\n",
    "print(lrmodel.summary())\n",
    "\n",
    "\n"
   ]
  },
  {
   "cell_type": "code",
   "execution_count": null,
   "id": "39aa4fd2",
   "metadata": {},
   "outputs": [],
   "source": [
    "vif = pd.DataFrame()\n",
    "vif['Features'] = X_train.columns\n",
    "vif['VIF'] = [variance_inflation_factor(X_train.values,i) for i in range (X_train.shape[1])]\n",
    "vif['VIF'] = round(vif['VIF'],2)\n",
    "vif=vif.sort_values(by='VIF',ascending=False)\n",
    "vif"
   ]
  },
  {
   "cell_type": "markdown",
   "id": "459a7ad6",
   "metadata": {},
   "source": [
    "# The R-squared value has decreased, which means the 'hum' field cannot be removed. Both atemp and hum are needed"
   ]
  },
  {
   "cell_type": "code",
   "execution_count": null,
   "id": "a52d5d7f",
   "metadata": {},
   "outputs": [],
   "source": [
    "# Only the 'temp' will be dropped\n",
    "\n",
    "\n",
    "\n",
    "X_train = df_train.drop(['cnt'],axis=1)\n",
    "y_train= df_train['cnt']\n",
    "\n",
    "dropping_cols = ['temp']\n",
    "\n",
    "\n",
    "\n",
    "X_train = X_train.drop(dropping_cols,axis=1)\n",
    "\n",
    "\n",
    "\n",
    "X_train_sm = sm.add_constant(X_train)\n",
    "lr = sm.OLS(y_train,X_train_sm)\n",
    "lrmodel = lr.fit()\n",
    "print (lrmodel.params)\n",
    "print(lrmodel.summary())\n",
    "\n"
   ]
  },
  {
   "cell_type": "code",
   "execution_count": null,
   "id": "67641d83",
   "metadata": {},
   "outputs": [],
   "source": [
    "\n",
    "vif = pd.DataFrame()\n",
    "vif['Features'] = X_train.columns\n",
    "vif['VIF'] = [variance_inflation_factor(X_train.values,i) for i in range (X_train.shape[1])]\n",
    "vif['VIF'] = round(vif['VIF'],2)\n",
    "vif=vif.sort_values(by='VIF',ascending=False)\n",
    "vif"
   ]
  },
  {
   "cell_type": "markdown",
   "id": "4121b9cf",
   "metadata": {},
   "source": [
    "### Dropping 'month' and evaluating the model. Dropping 'month' given the high P Value\n",
    "Note: We have already confirmed we can drop 'temp'."
   ]
  },
  {
   "cell_type": "code",
   "execution_count": null,
   "id": "b85355eb",
   "metadata": {},
   "outputs": [],
   "source": [
    "X_train = df_train.drop(['cnt'],axis=1)\n",
    "y_train= df_train['cnt']\n",
    "\n",
    "dropping_cols = ['temp','month']\n",
    "\n",
    "\n",
    "\n",
    "X_train = X_train.drop(dropping_cols,axis=1)\n",
    "\n",
    "\n",
    "\n",
    "X_train_sm = sm.add_constant(X_train)\n",
    "lr = sm.OLS(y_train,X_train_sm)\n",
    "lrmodel = lr.fit()\n",
    "print (lrmodel.params)\n",
    "print(lrmodel.summary())\n"
   ]
  },
  {
   "cell_type": "code",
   "execution_count": null,
   "id": "93fb41d6",
   "metadata": {},
   "outputs": [],
   "source": [
    "vif = pd.DataFrame()\n",
    "vif['Features'] = X_train.columns\n",
    "vif['VIF'] = [variance_inflation_factor(X_train.values,i) for i in range (X_train.shape[1])]\n",
    "vif['VIF'] = round(vif['VIF'],2)\n",
    "vif=vif.sort_values(by='VIF',ascending=False)\n",
    "vif"
   ]
  },
  {
   "cell_type": "markdown",
   "id": "0346570a",
   "metadata": {},
   "source": [
    "# There is no major decrease in R2 Scores. All P Values and VIF Scores are in acceptable range.\n",
    "['temp','month'] will be the two columns that will be dropped"
   ]
  },
  {
   "cell_type": "markdown",
   "id": "aeabc8e7",
   "metadata": {},
   "source": [
    "# Residual Analysis"
   ]
  },
  {
   "cell_type": "code",
   "execution_count": null,
   "id": "b5a89c66",
   "metadata": {},
   "outputs": [],
   "source": [
    "X_train = df_train.drop(['cnt'],axis=1)\n",
    "y_train = df_train['cnt']\n",
    "\n",
    "dropping_cols = ['temp','month'] \n",
    "\n",
    "X_train = X_train.drop(dropping_cols,axis=1)\n",
    "\n",
    "X_train_sm = sm.add_constant(X_train)\n",
    "y_train_pred = lrmodel.predict(X_train_sm)\n",
    "\n",
    "print (\"R2Score for Train : \" + str(r2_score(y_train,y_train_pred)))\n",
    "plt.scatter(y_train, y_train_pred,color='r')\n",
    "plt.xlabel('y_train')\n",
    "plt.ylabel('y_train_pred')\n",
    "plt.show()"
   ]
  },
  {
   "cell_type": "code",
   "execution_count": null,
   "id": "ebc20e25",
   "metadata": {},
   "outputs": [],
   "source": [
    "sns.displot(y_train-y_train_pred)\n",
    "plt.axvline((y_train-y_train_pred).mean(), linewidth=3, color='g', label=\"mean\", alpha=0.5)\n",
    "plt.axvline((y_train-y_train_pred).median(), linewidth=3, color='y', label=\"median\", alpha=0.5)\n",
    "plt.show()"
   ]
  },
  {
   "cell_type": "markdown",
   "id": "3b60d420",
   "metadata": {},
   "source": [
    "### Mean of Residuals on Train Dataset is near Zero"
   ]
  },
  {
   "cell_type": "markdown",
   "id": "680a85ec",
   "metadata": {},
   "source": [
    "# Predictions and Evaluations on the test set"
   ]
  },
  {
   "cell_type": "code",
   "execution_count": null,
   "id": "46c43443",
   "metadata": {},
   "outputs": [],
   "source": [
    "X_test = df_test.drop(['cnt'],axis=1)\n",
    "y_test = df_test['cnt']\n",
    "\n",
    "\n",
    "X_test = X_test.drop(dropping_cols,axis=1)\n",
    "\n",
    "X_test_sm = sm.add_constant(X_test)\n",
    "y_test_pred = lrmodel.predict(X_test_sm)\n",
    "\n",
    "print (\"R2Score for Test : \" + str(r2_score(y_test,y_test_pred)))\n",
    "plt.scatter(y_test, y_test_pred,color='r')\n",
    "plt.xlabel('y_test')\n",
    "plt.ylabel('y_test_pred')\n",
    "plt.show()"
   ]
  },
  {
   "cell_type": "markdown",
   "id": "bb5c00ce",
   "metadata": {},
   "source": [
    "### The R2 Scores between and train and test are comparable"
   ]
  },
  {
   "cell_type": "code",
   "execution_count": null,
   "id": "c9d1019a",
   "metadata": {},
   "outputs": [],
   "source": [
    "sns.displot(y_test-y_test_pred)\n",
    "plt.axvline((y_test-y_test_pred).mean(), linewidth=3, color='g', label=\"mean\", alpha=0.5)\n",
    "plt.axvline((y_test-y_test_pred).median(), linewidth=3, color='y', label=\"median\", alpha=0.5)\n",
    "plt.show()"
   ]
  },
  {
   "cell_type": "markdown",
   "id": "e4fbd2c0",
   "metadata": {},
   "source": [
    "### Mean of Residuals on Test Dataset is near Zero"
   ]
  },
  {
   "cell_type": "code",
   "execution_count": null,
   "id": "ec980979",
   "metadata": {},
   "outputs": [],
   "source": []
  }
 ],
 "metadata": {
  "kernelspec": {
   "display_name": "Python 3 (ipykernel)",
   "language": "python",
   "name": "python3"
  },
  "language_info": {
   "codemirror_mode": {
    "name": "ipython",
    "version": 3
   },
   "file_extension": ".py",
   "mimetype": "text/x-python",
   "name": "python",
   "nbconvert_exporter": "python",
   "pygments_lexer": "ipython3",
   "version": "3.11.7"
  }
 },
 "nbformat": 4,
 "nbformat_minor": 5
}
